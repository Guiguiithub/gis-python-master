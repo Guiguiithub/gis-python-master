{
 "cells": [
  {
   "cell_type": "markdown",
   "metadata": {},
   "source": [
    "# Classes"
   ]
  },
  {
   "cell_type": "code",
   "execution_count": null,
   "metadata": {},
   "outputs": [],
   "source": [
    "\n",
    "class Vehicle(object):\n",
    "    wheels=0\n",
    "    \n",
    "    def __init__(self,wheels,maxSpeed=0):\n",
    "        self.wheels=wheels\n",
    "        self.maxSpeed=maxSpeed\n",
    "        \n",
    "    def fasterThan(self,otherVehicle):\n",
    "        return self.maxSpeed > otherVehicle.maxSpeed\n",
    "  "
   ]
  },
  {
   "cell_type": "code",
   "execution_count": null,
   "metadata": {},
   "outputs": [],
   "source": [
    "v1=Vehicle(2)\n",
    "print(v1.maxSpeed)"
   ]
  },
  {
   "cell_type": "code",
   "execution_count": null,
   "metadata": {},
   "outputs": [],
   "source": [
    "class Bike(Vehicle):\n",
    "  def __init__(self,maxSpeed=0):\n",
    "    self.wheels=2\n",
    "    self.maxSpeed=maxSpeed\n",
    "\n",
    "\n",
    "b1=Bike(30)\n",
    "b1.wheels\n",
    "b1.maxSpeed\n"
   ]
  },
  {
   "cell_type": "code",
   "execution_count": null,
   "metadata": {},
   "outputs": [],
   "source": [
    "b2=Vehicle(4,80)\n",
    "\n",
    "b1.fasterThan(b2)"
   ]
  },
  {
   "cell_type": "code",
   "execution_count": 1,
   "metadata": {},
   "outputs": [
    {
     "name": "stdout",
     "output_type": "stream",
     "text": [
      "Book: The Hobbit by Tolkien\n"
     ]
    }
   ],
   "source": [
    "\n",
    "#%load_ext autoreload\n",
    "#%autoreload 2\n",
    "\n",
    "from books import Book\n",
    "\n",
    "#import importlib\n",
    "#importlib.reload(books)\n",
    "\n",
    "b=Book(\"The Hobbit\",\"Tolkien\")\n",
    "print(b)"
   ]
  },
  {
   "cell_type": "code",
   "execution_count": null,
   "metadata": {},
   "outputs": [],
   "source": []
  }
 ],
 "metadata": {
  "kernelspec": {
   "display_name": "Python 3 (ipykernel)",
   "language": "python",
   "name": "python3"
  },
  "language_info": {
   "codemirror_mode": {
    "name": "ipython",
    "version": 3
   },
   "file_extension": ".py",
   "mimetype": "text/x-python",
   "name": "python",
   "nbconvert_exporter": "python",
   "pygments_lexer": "ipython3",
   "version": "3.9.12"
  }
 },
 "nbformat": 4,
 "nbformat_minor": 4
}
