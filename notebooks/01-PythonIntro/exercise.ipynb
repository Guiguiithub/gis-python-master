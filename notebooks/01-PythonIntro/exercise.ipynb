{
 "cells": [
  {
   "cell_type": "markdown",
   "metadata": {},
   "source": [
    "# Exercise"
   ]
  },
  {
   "cell_type": "markdown",
   "metadata": {},
   "source": [
    "### 1. Read the data file"
   ]
  },
  {
   "cell_type": "code",
   "execution_count": 1,
   "metadata": {},
   "outputs": [],
   "source": [
    "f = open ('../../data/03-11-2020.csv')"
   ]
  },
  {
   "cell_type": "markdown",
   "metadata": {},
   "source": [
    "### 2. Print number of entries"
   ]
  },
  {
   "cell_type": "code",
   "execution_count": 2,
   "metadata": {},
   "outputs": [
    {
     "data": {
      "text/plain": [
       "216"
      ]
     },
     "execution_count": 2,
     "metadata": {},
     "output_type": "execute_result"
    }
   ],
   "source": [
    "header=f.readline() # exclude the header\n",
    "lines = f.readlines()\n",
    "f.close()\n",
    "\n",
    "len(lines)"
   ]
  },
  {
   "cell_type": "markdown",
   "metadata": {},
   "source": [
    "### 3. Print number of columns"
   ]
  },
  {
   "cell_type": "code",
   "execution_count": 3,
   "metadata": {},
   "outputs": [
    {
     "data": {
      "text/plain": [
       "['Hubei',\n",
       " 'China',\n",
       " '2020-03-11T10:53:02',\n",
       " '67773',\n",
       " '3046',\n",
       " '49134',\n",
       " '30.9756',\n",
       " '112.2707']"
      ]
     },
     "execution_count": 3,
     "metadata": {},
     "output_type": "execute_result"
    }
   ],
   "source": [
    "line=lines[0].strip().split(',')  # I see the columns for the first line, assuming the others have the same... (in this case it's ok but not necessairly)\n",
    "line "
   ]
  },
  {
   "cell_type": "code",
   "execution_count": 4,
   "metadata": {},
   "outputs": [
    {
     "data": {
      "text/plain": [
       "8"
      ]
     },
     "execution_count": 4,
     "metadata": {},
     "output_type": "execute_result"
    }
   ],
   "source": [
    "len(line) "
   ]
  },
  {
   "cell_type": "markdown",
   "metadata": {},
   "source": [
    "### 4. How many countries?"
   ]
  },
  {
   "cell_type": "code",
   "execution_count": 6,
   "metadata": {},
   "outputs": [
    {
     "data": {
      "text/plain": [
       "[['Hubei',\n",
       "  'China',\n",
       "  '2020-03-11T10:53:02',\n",
       "  '67773',\n",
       "  '3046',\n",
       "  '49134',\n",
       "  '30.9756',\n",
       "  '112.2707'],\n",
       " ['',\n",
       "  'Italy',\n",
       "  '2020-03-11T21:33:02',\n",
       "  '12462',\n",
       "  '827',\n",
       "  '1045',\n",
       "  '43.0000',\n",
       "  '12.0000'],\n",
       " ['',\n",
       "  'Iran',\n",
       "  '2020-03-11T18:52:03',\n",
       "  '9000',\n",
       "  '354',\n",
       "  '2959',\n",
       "  '32.0000',\n",
       "  '53.0000'],\n",
       " ['',\n",
       "  'South Korea',\n",
       "  '2020-03-11T21:13:18',\n",
       "  '7755',\n",
       "  '60',\n",
       "  '288',\n",
       "  '36.0000',\n",
       "  '128.0000'],\n",
       " ['France',\n",
       "  'France',\n",
       "  '2020-03-11T22:53:03',\n",
       "  '2281',\n",
       "  '48',\n",
       "  '12',\n",
       "  '46.2276',\n",
       "  '2.2137']]"
      ]
     },
     "execution_count": 6,
     "metadata": {},
     "output_type": "execute_result"
    }
   ],
   "source": [
    "data = [line.strip().split(',') for line in lines]  # first transform each line in separated list elements\n",
    "data [:5]   # we look at the first 5 to see how they look like"
   ]
  },
  {
   "cell_type": "code",
   "execution_count": 7,
   "metadata": {},
   "outputs": [],
   "source": [
    "countries=[]\n",
    "for entry in data:\n",
    "    if not entry[1] in countries:\n",
    "        countries.append(entry[1])   # entry[1] is to get the country. we add it if is not there yet "
   ]
  },
  {
   "cell_type": "code",
   "execution_count": 8,
   "metadata": {},
   "outputs": [
    {
     "name": "stdout",
     "output_type": "stream",
     "text": [
      "['China', 'Italy', 'Iran', 'South Korea', 'France', 'Spain', 'Germany', 'Cruise Ship', 'Switzerland', 'Japan', 'Norway', 'Netherlands', 'Sweden', 'United Kingdom', 'Denmark', 'US', 'Belgium', 'Qatar', 'Austria', 'Bahrain', 'Singapore', 'Malaysia', 'Israel', 'Greece', 'Czechia', 'Iceland', 'United Arab Emirates', 'Kuwait', 'Iraq', 'Australia', 'India', 'San Marino', 'Lebanon', 'Egypt', 'Finland', 'Portugal', 'Thailand', 'Slovenia', 'Philippines', 'Taiwan*', 'Romania', 'Ireland', 'Canada', 'Brazil', 'Vietnam', 'Indonesia', 'Poland', 'Georgia', 'Chile', 'Saudi Arabia', 'Algeria', 'Russia', 'Argentina', 'Croatia', 'Pakistan', 'Oman', 'Ecuador', 'Estonia', 'Costa Rica', 'Hungary', 'South Africa', 'Albania', 'Serbia', 'Azerbaijan', 'Brunei', 'Peru', 'Latvia', 'Slovakia', 'Belarus', 'Colombia', 'Maldives', 'Mexico', 'Panama', 'Afghanistan', 'Bosnia and Herzegovina', 'Bulgaria', 'Luxembourg', 'North Macedonia', 'Tunisia', 'Cyprus', 'Malta', 'Dominican Republic', 'French Guiana', 'Morocco', 'New Zealand', 'Paraguay', 'Senegal', 'Bangladesh', 'Cambodia', 'Lithuania', 'Martinique', 'Moldova', 'Bolivia', 'Burkina Faso', 'Cameroon', 'Honduras', 'Nigeria', 'Sri Lanka', 'Andorra', 'Armenia', 'Bhutan', 'Congo (Kinshasa)', \"Cote d'Ivoire\", 'Holy See', 'Jamaica', 'Jordan', 'Liechtenstein', 'Monaco', 'Mongolia', 'Nepal', 'Reunion', 'Togo', 'Turkey', 'Ukraine', 'Mainland China', 'occupied Palestinian territory']\n"
     ]
    }
   ],
   "source": [
    "print(countries) "
   ]
  },
  {
   "cell_type": "code",
   "execution_count": 9,
   "metadata": {},
   "outputs": [
    {
     "data": {
      "text/plain": [
       "116"
      ]
     },
     "execution_count": 9,
     "metadata": {},
     "output_type": "execute_result"
    }
   ],
   "source": [
    "len(countries) "
   ]
  },
  {
   "cell_type": "markdown",
   "metadata": {},
   "source": [
    "Another way to do it with comprehension lists"
   ]
  },
  {
   "cell_type": "code",
   "execution_count": 10,
   "metadata": {},
   "outputs": [],
   "source": [
    "countries = set([entry[1] for entry in data]) "
   ]
  },
  {
   "cell_type": "code",
   "execution_count": 11,
   "metadata": {},
   "outputs": [
    {
     "data": {
      "text/plain": [
       "116"
      ]
     },
     "execution_count": 11,
     "metadata": {},
     "output_type": "execute_result"
    }
   ],
   "source": [
    "len(countries) "
   ]
  },
  {
   "cell_type": "markdown",
   "metadata": {},
   "source": [
    "### 5. Confirmed in Switzerland? "
   ]
  },
  {
   "cell_type": "code",
   "execution_count": 12,
   "metadata": {},
   "outputs": [
    {
     "name": "stdout",
     "output_type": "stream",
     "text": [
      "652\n"
     ]
    }
   ],
   "source": [
    "for entry in data:\n",
    "        if entry[1] == 'Switzerland':\n",
    "            print(entry[3])"
   ]
  },
  {
   "cell_type": "markdown",
   "metadata": {},
   "source": [
    "This works because there is only one entry for Switzerland, if we do the same for China we would have to count by region. \n",
    "\n",
    "We can also do a for inline:"
   ]
  },
  {
   "cell_type": "code",
   "execution_count": 13,
   "metadata": {},
   "outputs": [
    {
     "data": {
      "text/plain": [
       "652"
      ]
     },
     "execution_count": 13,
     "metadata": {},
     "output_type": "execute_result"
    }
   ],
   "source": [
    "confirmed= (entry[3] for entry in data if entry[1] =='Switzerland')\n",
    "int(next(confirmed))"
   ]
  },
  {
   "cell_type": "markdown",
   "metadata": {},
   "source": [
    "### 6. Countries with more than 1000 infected"
   ]
  },
  {
   "cell_type": "code",
   "execution_count": 14,
   "metadata": {},
   "outputs": [],
   "source": [
    "countries1000=[(entry[1],entry[0]) for entry in data if int(entry[3])>1000 ] "
   ]
  },
  {
   "cell_type": "code",
   "execution_count": 15,
   "metadata": {},
   "outputs": [
    {
     "data": {
      "text/plain": [
       "[('China', 'Hubei'),\n",
       " ('Italy', ''),\n",
       " ('Iran', ''),\n",
       " ('South Korea', ''),\n",
       " ('France', 'France'),\n",
       " ('Spain', ''),\n",
       " ('Germany', ''),\n",
       " ('China', 'Guangdong'),\n",
       " ('China', 'Henan'),\n",
       " ('China', 'Zhejiang'),\n",
       " ('China', 'Hunan')]"
      ]
     },
     "execution_count": 15,
     "metadata": {},
     "output_type": "execute_result"
    }
   ],
   "source": [
    "countries1000"
   ]
  },
  {
   "cell_type": "markdown",
   "metadata": {},
   "source": [
    "This one is becoming pretty ugly already in one line, but just to give you an idea. And is anyway wrong, China is duplicated.\n",
    "\n",
    "The trick here is that for some countries it is by region, so it would be better to group by country, aggregate total and give an answer"
   ]
  },
  {
   "cell_type": "code",
   "execution_count": 16,
   "metadata": {},
   "outputs": [
    {
     "name": "stdout",
     "output_type": "stream",
     "text": [
      "{'China': 80921, 'Italy': 12462, 'Iran': 9000, 'South Korea': 7755, 'France': 2284, 'Spain': 2277, 'Germany': 1908, 'Cruise Ship': 696, 'Switzerland': 652, 'Japan': 639, 'Norway': 598, 'Netherlands': 503, 'Sweden': 500, 'United Kingdom': 459, 'Denmark': 444, 'US': 1281, 'Belgium': 314, 'Qatar': 262, 'Austria': 246, 'Bahrain': 195, 'Singapore': 178, 'Malaysia': 149, 'Israel': 109, 'Greece': 99, 'Czechia': 91, 'Iceland': 85, 'United Arab Emirates': 74, 'Kuwait': 72, 'Iraq': 71, 'Australia': 128, 'India': 62, 'San Marino': 62, 'Lebanon': 61, 'Egypt': 60, 'Finland': 59, 'Portugal': 59, 'Thailand': 59, 'Slovenia': 57, 'Philippines': 49, 'Taiwan*': 48, 'Romania': 45, 'Ireland': 43, 'Canada': 108, 'Brazil': 38, 'Vietnam': 38, 'Indonesia': 34, 'Poland': 31, 'Georgia': 24, 'Chile': 23, 'Saudi Arabia': 21, 'Algeria': 20, 'Russia': 20, 'Argentina': 19, 'Croatia': 19, 'Pakistan': 19, 'Oman': 18, 'Ecuador': 17, 'Estonia': 16, 'Costa Rica': 13, 'Hungary': 13, 'South Africa': 13, 'Albania': 12, 'Serbia': 12, 'Azerbaijan': 11, 'Brunei': 11, 'Peru': 11, 'Latvia': 10, 'Slovakia': 10, 'Belarus': 9, 'Colombia': 9, 'Maldives': 8, 'Mexico': 8, 'Panama': 8, 'Afghanistan': 7, 'Bosnia and Herzegovina': 7, 'Bulgaria': 7, 'Luxembourg': 7, 'North Macedonia': 7, 'Tunisia': 7, 'Cyprus': 6, 'Malta': 6, 'Dominican Republic': 5, 'French Guiana': 5, 'Morocco': 5, 'New Zealand': 5, 'Paraguay': 5, 'Senegal': 4, 'Bangladesh': 3, 'Cambodia': 3, 'Lithuania': 3, 'Martinique': 3, 'Moldova': 3, 'Bolivia': 2, 'Burkina Faso': 2, 'Cameroon': 2, 'Honduras': 2, 'Nigeria': 2, 'Sri Lanka': 2, 'Andorra': 1, 'Armenia': 1, 'Bhutan': 1, 'Congo (Kinshasa)': 1, \"Cote d'Ivoire\": 1, 'Holy See': 1, 'Jamaica': 1, 'Jordan': 1, 'Liechtenstein': 1, 'Monaco': 1, 'Mongolia': 1, 'Nepal': 1, 'Reunion': 1, 'Togo': 1, 'Turkey': 1, 'Ukraine': 1, 'Mainland China': 0, 'occupied Palestinian territory': 0}\n"
     ]
    }
   ],
   "source": [
    "totalByCountry={}\n",
    "for entry in data:\n",
    "    cases=int(entry[3])\n",
    "    if entry[1] in totalByCountry:\n",
    "        totalByCountry[entry[1]]=totalByCountry[entry[1]]+cases\n",
    "    else :\n",
    "        totalByCountry[entry[1]]=cases\n",
    "\n",
    "print(totalByCountry)"
   ]
  },
  {
   "cell_type": "code",
   "execution_count": 17,
   "metadata": {},
   "outputs": [
    {
     "data": {
      "text/plain": [
       "['China', 'Italy', 'Iran', 'South Korea', 'France', 'Spain', 'Germany', 'US']"
      ]
     },
     "execution_count": 17,
     "metadata": {},
     "output_type": "execute_result"
    }
   ],
   "source": [
    "list(country for country in totalByCountry if totalByCountry[country]>1000) "
   ]
  },
  {
   "cell_type": "code",
   "execution_count": null,
   "metadata": {},
   "outputs": [],
   "source": []
  }
 ],
 "metadata": {
  "kernelspec": {
   "display_name": "Python 3 (ipykernel)",
   "language": "python",
   "name": "python3"
  },
  "language_info": {
   "codemirror_mode": {
    "name": "ipython",
    "version": 3
   },
   "file_extension": ".py",
   "mimetype": "text/x-python",
   "name": "python",
   "nbconvert_exporter": "python",
   "pygments_lexer": "ipython3",
   "version": "3.9.12"
  }
 },
 "nbformat": 4,
 "nbformat_minor": 4
}
