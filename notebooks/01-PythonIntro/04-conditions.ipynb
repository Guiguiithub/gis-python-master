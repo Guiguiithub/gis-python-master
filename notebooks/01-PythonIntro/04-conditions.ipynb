{
 "cells": [
  {
   "cell_type": "markdown",
   "metadata": {},
   "source": [
    "# Conditions"
   ]
  },
  {
   "cell_type": "code",
   "execution_count": null,
   "metadata": {},
   "outputs": [],
   "source": [
    "speed=80\n",
    "if speed > 100:\n",
    "    print('too fast')\n",
    "elif speed > 80 and speed <=100 :\n",
    "    print('speed ok')\n",
    "else: \n",
    "    print('too slow')"
   ]
  },
  {
   "cell_type": "code",
   "execution_count": null,
   "metadata": {},
   "outputs": [],
   "source": [
    "exam1 = 3.5\n",
    "exam2 = 'B'\n",
    "if (exam1 >=4 and exam2 == 'A'):\n",
    "    print('grades are great')\n",
    "elif exam1 < 4 and exam2 == 'B':\n",
    "    print('grades are poor')\n",
    "else:\n",
    "    print('grades are mixed')"
   ]
  },
  {
   "cell_type": "code",
   "execution_count": null,
   "metadata": {},
   "outputs": [],
   "source": [
    "%ls"
   ]
  },
  {
   "cell_type": "code",
   "execution_count": null,
   "metadata": {},
   "outputs": [],
   "source": []
  }
 ],
 "metadata": {
  "kernelspec": {
   "display_name": "Python 3 (ipykernel)",
   "language": "python",
   "name": "python3"
  },
  "language_info": {
   "codemirror_mode": {
    "name": "ipython",
    "version": 3
   },
   "file_extension": ".py",
   "mimetype": "text/x-python",
   "name": "python",
   "nbconvert_exporter": "python",
   "pygments_lexer": "ipython3",
   "version": "3.9.12"
  }
 },
 "nbformat": 4,
 "nbformat_minor": 4
}
