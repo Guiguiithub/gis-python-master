{
 "cells": [
  {
   "cell_type": "markdown",
   "metadata": {},
   "source": [
    "## Geometries Exercise"
   ]
  },
  {
   "cell_type": "markdown",
   "metadata": {},
   "source": [
    "Laurent wants to buy a house in Sierre. He went to visit 3 properties and he collected the coordinates in this file: data/simple-geometries/exercise-geometries.txt"
   ]
  },
  {
   "cell_type": "markdown",
   "metadata": {},
   "source": [
    "### 1. Read the text file"
   ]
  },
  {
   "cell_type": "code",
   "execution_count": 1,
   "metadata": {},
   "outputs": [],
   "source": [
    "f = open ('../../data/simple-geometries/geometries.json') "
   ]
  },
  {
   "cell_type": "markdown",
   "metadata": {},
   "source": [
    "We can open the file using the regular python `open` function. "
   ]
  },
  {
   "cell_type": "markdown",
   "metadata": {},
   "source": [
    "### 2. Explore the file contents\n",
    "\n",
    "The file contains coordinates of: terrains, houses, swimming pool, river, road, university and train station."
   ]
  },
  {
   "cell_type": "markdown",
   "metadata": {},
   "source": [
    "You will notice that the file contains data in JSON format. You'll need to explore the context ot understand what is in it and where is the information that you need. "
   ]
  },
  {
   "cell_type": "code",
   "execution_count": 2,
   "metadata": {
    "tags": []
   },
   "outputs": [
    {
     "data": {
      "text/plain": [
       "'{\\n  \"type\": \"FeatureCollection\",\\n  \"features\": [\\n    {\\n      \"type\": \"Feature\",\\n      \"properties\": {\\n        \"stroke\": \"#555555\",\\n        \"stroke-width\": 2,\\n        \"stroke-opacity\": 1,\\n        \"fill\": \"#555555\",\\n        \"fill-opacity\": 0.5,\\n        \"type\": \"terrain\",\\n        \"name\": \"Terrain-A\"\\n      },\\n      \"geometry\": {\\n        \"type\": \"Polygon\",\\n        \"coordinates\": [\\n          [\\n            [\\n              7.535770833492279,\\n              46.29209752598038\\n            ],\\n            [\\n              7.535832524299621,\\n              46.29196223064501\\n            ],\\n            [\\n              7.536106109619141,\\n              46.29214756663618\\n            ],\\n            [\\n              7.5359907746315,\\n              46.29223652768917\\n            ],\\n            [\\n              7.535816431045532,\\n              46.29220872737563\\n            ],\\n            [\\n              7.535770833492279,\\n              46.29209752598038\\n            ]\\n          ]\\n        ]\\n      }\\n    },\\n    {\\n      \"type\": \"Feature\",\\n      \"properties\": {\\n        \"stroke\": \"#555555\",\\n        \"stroke-width\": 2,\\n        \"stroke-opacity\": 1,\\n        \"fill\": \"#555555\",\\n        \"fill-opacity\": 0.5,\\n        \"type\": \"terrain\",\\n        \"name\": \"Terrain-B\"\\n      },\\n      \"geometry\": {\\n        \"type\": \"Polygon\",\\n        \"coordinates\": [\\n          [\\n            [\\n              7.536124885082244,\\n              46.29241630270935\\n            ],\\n            [\\n              7.5362858176231375,\\n              46.29220316731123\\n            ],\\n            [\\n              7.536532580852508,\\n              46.29243668953004\\n            ],\\n            [\\n              7.536296546459199,\\n              46.29272210422308\\n            ],\\n            [\\n              7.536073923110961,\\n              46.29255715695201\\n            ],\\n            [\\n              7.536124885082244,\\n              46.29241630270935\\n            ]\\n          ]\\n        ]\\n      }\\n    },\\n    {\\n      \"type\": \"Feature\",\\n      \"properties\": {\\n        \"stroke\": \"#555555\",\\n        \"stroke-width\": 2,\\n        \"stroke-opacity\": 1,\\n        \"fill\": \"#555555\",\\n        \"fill-opacity\": 0.5,\\n        \"type\": \"terrain\",\\n        \"name\": \"Terrain-C\"\\n      },\\n      \"geometry\": {\\n        \"type\": \"Polygon\",\\n        \"coordinates\": [\\n          [\\n            [\\n              7.535186111927033,\\n              46.291632331028985\\n            ],\\n            [\\n              7.535373866558075,\\n              46.29152298184133\\n            ],\\n            [\\n              7.535583078861236,\\n              46.29157302302211\\n            ],\\n            [\\n              7.535566985607147,\\n              46.291758360330334\\n            ],\\n            [\\n              7.535186111927033,\\n              46.291632331028985\\n            ]\\n          ]\\n        ]\\n      }\\n    },\\n    {\\n      \"type\": \"Feature\",\\n      \"properties\": {\\n        \"stroke\": \"#800000\",\\n        \"stroke-width\": 2,\\n        \"stroke-opacity\": 1,\\n        \"fill\": \"#ff8080\",\\n        \"fill-opacity\": 0.5,\\n        \"type\": \"house\",\\n        \"name\": \"House-3\"\\n      },\\n      \"geometry\": {\\n        \"type\": \"Polygon\",\\n        \"coordinates\": [\\n          [\\n            [\\n              7.536170482635499,\\n              46.29244039622391\\n            ],\\n            [\\n              7.536371648311614,\\n              46.29244039622391\\n            ],\\n            [\\n              7.536371648311614,\\n              46.2925237967694\\n            ],\\n            [\\n              7.536170482635499,\\n              46.2925237967694\\n            ],\\n            [\\n              7.536170482635499,\\n              46.29244039622391\\n            ]\\n          ]\\n        ]\\n      }\\n    },\\n    {\\n      \"type\": \"Feature\",\\n      \"properties\": {\\n        \"stroke\": \"#800000\",\\n        \"stroke-width\": 2,\\n        \"stroke-opacity\": 1,\\n        \"fill\": \"#ff8080\",\\n        \"fill-opacity\": 0.5,\\n        \"type\": \"house\",\\n        \"name\": \"House-1\"\\n      },\\n      \"geometry\": {\\n        \"type\": \"Polygon\",\\n        \"coordinates\": [\\n          [\\n            [\\n              7.535851299762726,\\n              46.292136446494375\\n            ],\\n            [\\n              7.5359907746315,\\n              46.292136446494375\\n            ],\\n            [\\n              7.5359907746315,\\n              46.29219575389115\\n            ],\\n            [\\n              7.535851299762726,\\n              46.29219575389115\\n            ],\\n            [\\n              7.535851299762726,\\n              46.292136446494375\\n            ]\\n          ]\\n        ]\\n      }\\n    },\\n    {\\n      \"type\": \"Feature\",\\n      \"properties\": {\\n        \"stroke\": \"#800000\",\\n        \"stroke-width\": 2,\\n        \"stroke-opacity\": 1,\\n        \"fill\": \"#ff8080\",\\n        \"fill-opacity\": 0.5,\\n        \"type\": \"house\",\\n        \"name\": \"House-2\"\\n      },\\n      \"geometry\": {\\n        \"type\": \"Polygon\",\\n        \"coordinates\": [\\n          [\\n            [\\n              7.535309493541718,\\n              46.29159897028302\\n            ],\\n            [\\n              7.53546506166458,\\n              46.29159897028302\\n            ],\\n            [\\n              7.53546506166458,\\n              46.291663838381496\\n            ],\\n            [\\n              7.535309493541718,\\n              46.291663838381496\\n            ],\\n            [\\n              7.535309493541718,\\n              46.29159897028302\\n            ]\\n          ]\\n        ]\\n      }\\n    },\\n    {\\n      \"type\": \"Feature\",\\n      \"properties\": {\\n        \"stroke\": \"#0080ff\",\\n        \"stroke-width\": 2,\\n        \"stroke-opacity\": 1,\\n        \"fill\": \"#00ffff\",\\n        \"fill-opacity\": 0.5,\\n        \"type\": \"pool\"\\n      },\\n      \"geometry\": {\\n        \"type\": \"Polygon\",\\n        \"coordinates\": [\\n          [\\n            [\\n              7.536218762397766,\\n              46.29235514220171\\n            ],\\n            [\\n              7.536393105983734,\\n              46.29235514220171\\n            ],\\n            [\\n              7.536393105983734,\\n              46.29239406253265\\n            ],\\n            [\\n              7.536218762397766,\\n              46.29239406253265\\n            ],\\n            [\\n              7.536218762397766,\\n              46.29235514220171\\n            ]\\n          ]\\n        ]\\n      }\\n    },\\n    {\\n      \"type\": \"Feature\",\\n      \"properties\": {\\n        \"marker-color\": \"#7e7e7e\",\\n        \"marker-size\": \"medium\",\\n        \"marker-symbol\": \"\",\\n        \"type\": \"university\"\\n      },\\n      \"geometry\": {\\n        \"type\": \"Point\",\\n        \"coordinates\": [\\n          7.536114156246185,\\n          46.29274434426655\\n        ]\\n      }\\n    },\\n    {\\n      \"type\": \"Feature\",\\n      \"properties\": {\\n        \"marker-color\": \"#7e7e7e\",\\n        \"marker-size\": \"medium\",\\n        \"marker-symbol\": \"\",\\n        \"type\": \"train\"\\n      },\\n      \"geometry\": {\\n        \"type\": \"Point\",\\n        \"coordinates\": [\\n          7.535017132759093,\\n          46.292179073692296\\n        ]\\n      }\\n    },\\n    {\\n      \"type\": \"Feature\",\\n      \"properties\": {\\n        \"stroke\": \"#555555\",\\n        \"stroke-width\": 2,\\n        \"stroke-opacity\": 1,\\n        \"type\": \"road\"\\n      },\\n      \"geometry\": {\\n        \"type\": \"LineString\",\\n        \"coordinates\": [\\n          [\\n            7.536175847053528,\\n            46.291498887923176\\n          ],\\n          [\\n            7.536307275295258,\\n            46.2917305597741\\n          ],\\n          [\\n            7.536470890045166,\\n            46.292008564701604\\n          ],\\n          [\\n            7.53662645816803,\\n            46.29226432798858\\n          ],\\n          [\\n            7.536629140377045,\\n            46.29230139503254\\n          ]\\n        ]\\n      }\\n    },\\n    {\\n      \"type\": \"Feature\",\\n      \"properties\": {\\n        \"stroke\": \"#0080c0\",\\n        \"stroke-width\": 2,\\n        \"stroke-opacity\": 1,\\n        \"type\": \"river\"\\n      },\\n      \"geometry\": {\\n        \"type\": \"LineString\",\\n        \"coordinates\": [\\n          [\\n            7.536556720733643,\\n            46.292848131016726\\n          ],\\n          [\\n            7.536454796791076,\\n            46.29264797067957\\n          ],\\n          [\\n            7.536409199237823,\\n            46.29244039622391\\n          ],\\n          [\\n            7.536098062992096,\\n            46.29238850248708\\n          ],\\n          [\\n            7.536098062992096,\\n            46.292262474635734\\n          ],\\n          [\\n            7.535937130451202,\\n            46.29220502066609\\n          ],\\n          [\\n            7.535741329193115,\\n            46.29213829985153\\n          ],\\n          [\\n            7.535062730312348,\\n            46.29170275920373\\n          ]\\n        ]\\n      }\\n    }\\n  ]\\n}'"
      ]
     },
     "execution_count": 2,
     "metadata": {},
     "output_type": "execute_result"
    }
   ],
   "source": [
    "data = f.read()\n",
    "f.close()\n",
    "data"
   ]
  },
  {
   "cell_type": "markdown",
   "metadata": {
    "tags": []
   },
   "source": [
    "Geometries are usually easier to understand visually. You could use a tool like [http://geojson.io](http://geojson.io) (click ant test it!) to visualize the contents of this file\n",
    "\n",
    "\n",
    "Luckily Python has a helpful JSON library that will help you with this task:"
   ]
  },
  {
   "cell_type": "code",
   "execution_count": null,
   "metadata": {},
   "outputs": [],
   "source": [
    "import json"
   ]
  },
  {
   "cell_type": "markdown",
   "metadata": {},
   "source": [
    "### 3. Create geometries for each type of object in the file\n",
    "\n",
    "`Polygon` for terrains,houses, pool. \n",
    "`LineString` for river, road, \n",
    "`Point` for station and university. \n",
    "You will notice, for example, that the train station only has one pair of x, y coordinates, so it's a point. A house, you will notice, has more coordinates, and it's a polygon. "
   ]
  },
  {
   "cell_type": "code",
   "execution_count": 5,
   "metadata": {},
   "outputs": [
    {
     "data": {
      "text/plain": [
       "namespace(type='Polygon',\n",
       "          coordinates=[[[7.535770833492279, 46.29209752598038],\n",
       "                        [7.535832524299621, 46.29196223064501],\n",
       "                        [7.536106109619141, 46.29214756663618],\n",
       "                        [7.5359907746315, 46.29223652768917],\n",
       "                        [7.535816431045532, 46.29220872737563],\n",
       "                        [7.535770833492279, 46.29209752598038]]])"
      ]
     },
     "execution_count": 5,
     "metadata": {},
     "output_type": "execute_result"
    }
   ],
   "source": [
    "f = open ('../../data/simple-geometries/geometries.json')  \n",
    "data = f.read()\n",
    "f.close()\n",
    "\n",
    "import json\n",
    "from types import SimpleNamespace\n",
    "\n",
    "geojson=json.loads(data, object_hook=lambda d: SimpleNamespace(**d))\n",
    "geojson.features\n",
    "\n",
    "geojson.features[0].geometry"
   ]
  },
  {
   "cell_type": "code",
   "execution_count": 7,
   "metadata": {},
   "outputs": [],
   "source": [
    "from shapely.geometry import Polygon\n",
    "from shapely.geometry import LineString\n",
    "from shapely.geometry import Point\n",
    "from shapely.geometry import GeometryCollection\n"
   ]
  },
  {
   "cell_type": "code",
   "execution_count": 23,
   "metadata": {},
   "outputs": [
    {
     "data": {
      "text/plain": [
       "'university'"
      ]
     },
     "execution_count": 23,
     "metadata": {},
     "output_type": "execute_result"
    }
   ],
   "source": [
    "geojson.features[7].properties.type"
   ]
  },
  {
   "cell_type": "code",
   "execution_count": 24,
   "metadata": {},
   "outputs": [
    {
     "data": {
      "text/plain": [
       "namespace(type='Point', coordinates=[7.536114156246185, 46.29274434426655])"
      ]
     },
     "execution_count": 24,
     "metadata": {},
     "output_type": "execute_result"
    }
   ],
   "source": [
    "geojson.features[7].geometry"
   ]
  },
  {
   "cell_type": "code",
   "execution_count": 26,
   "metadata": {},
   "outputs": [
    {
     "data": {
      "image/svg+xml": [
       "<svg xmlns=\"http://www.w3.org/2000/svg\" xmlns:xlink=\"http://www.w3.org/1999/xlink\" width=\"100.0\" height=\"100.0\" viewBox=\"6.536114156246185 45.29274434426655 2.0 2.0\" preserveAspectRatio=\"xMinYMin meet\"><g transform=\"matrix(1,0,0,-1,0,92.5854886885331)\"><circle cx=\"7.536114156246185\" cy=\"46.29274434426655\" r=\"0.06\" stroke=\"#555555\" stroke-width=\"0.02\" fill=\"#66cc99\" opacity=\"0.6\" /></g></svg>"
      ],
      "text/plain": [
       "<POINT (7.536 46.293)>"
      ]
     },
     "execution_count": 26,
     "metadata": {},
     "output_type": "execute_result"
    }
   ],
   "source": [
    "uni = Point(geojson.features[7].geometry.coordinates)\n",
    "list(uni.coords)\n",
    "uni"
   ]
  },
  {
   "cell_type": "code",
   "execution_count": null,
   "metadata": {},
   "outputs": [],
   "source": [
    "features = geojson.features\n",
    "for f in features:\n",
    "    print(f.geometry.coordinates)\n",
    "    if f.geometry.type == 'Point' :\n",
    "        f.geo=Point(f.geometry.coordinates)\n",
    "    elif f.geometry.type == 'LineString' :\n",
    "        f.geo=LineString(f.geometry.coordinates)\n",
    "    elif f.geometry.type == 'Polygon' :\n",
    "        #print(\"coco\",f.geometry.coordinates)\n",
    "        f.geo=Polygon(f.geometry.coordinates[0])"
   ]
  },
  {
   "cell_type": "code",
   "execution_count": null,
   "metadata": {},
   "outputs": [],
   "source": [
    "houses = [g for g in features if g.properties.type=='house'] \n",
    "houses"
   ]
  },
  {
   "cell_type": "code",
   "execution_count": 28,
   "metadata": {},
   "outputs": [
    {
     "data": {
      "image/svg+xml": [
       "<svg xmlns=\"http://www.w3.org/2000/svg\" xmlns:xlink=\"http://www.w3.org/1999/xlink\" width=\"100.0\" height=\"100.0\" viewBox=\"7.5349526524543755 46.29143440761846 0.0017409682273870075 0.0014782037029803519\" preserveAspectRatio=\"xMinYMin meet\"><g transform=\"matrix(1,0,0,-1,0,92.5843470189399)\"><g><path fill-rule=\"evenodd\" fill=\"#66cc99\" stroke=\"#555555\" stroke-width=\"3.481936454774015e-05\" opacity=\"0.6\" d=\"M 7.535770833492279,46.29209752598038 L 7.535832524299621,46.29196223064501 L 7.536106109619141,46.29214756663618 L 7.5359907746315,46.29223652768917 L 7.535816431045532,46.29220872737563 L 7.535770833492279,46.29209752598038 z\" /><path fill-rule=\"evenodd\" fill=\"#66cc99\" stroke=\"#555555\" stroke-width=\"3.481936454774015e-05\" opacity=\"0.6\" d=\"M 7.536124885082244,46.29241630270935 L 7.5362858176231375,46.29220316731123 L 7.536532580852508,46.29243668953004 L 7.536296546459199,46.29272210422308 L 7.536073923110961,46.29255715695201 L 7.536124885082244,46.29241630270935 z\" /><path fill-rule=\"evenodd\" fill=\"#66cc99\" stroke=\"#555555\" stroke-width=\"3.481936454774015e-05\" opacity=\"0.6\" d=\"M 7.535186111927033,46.291632331028985 L 7.535373866558075,46.29152298184133 L 7.535583078861236,46.29157302302211 L 7.535566985607147,46.291758360330334 L 7.535186111927033,46.291632331028985 z\" /><path fill-rule=\"evenodd\" fill=\"#66cc99\" stroke=\"#555555\" stroke-width=\"3.481936454774015e-05\" opacity=\"0.6\" d=\"M 7.536170482635499,46.29244039622391 L 7.536371648311614,46.29244039622391 L 7.536371648311614,46.2925237967694 L 7.536170482635499,46.2925237967694 L 7.536170482635499,46.29244039622391 z\" /><path fill-rule=\"evenodd\" fill=\"#66cc99\" stroke=\"#555555\" stroke-width=\"3.481936454774015e-05\" opacity=\"0.6\" d=\"M 7.535851299762726,46.292136446494375 L 7.5359907746315,46.292136446494375 L 7.5359907746315,46.29219575389115 L 7.535851299762726,46.29219575389115 L 7.535851299762726,46.292136446494375 z\" /><path fill-rule=\"evenodd\" fill=\"#66cc99\" stroke=\"#555555\" stroke-width=\"3.481936454774015e-05\" opacity=\"0.6\" d=\"M 7.535309493541718,46.29159897028302 L 7.53546506166458,46.29159897028302 L 7.53546506166458,46.291663838381496 L 7.535309493541718,46.291663838381496 L 7.535309493541718,46.29159897028302 z\" /><path fill-rule=\"evenodd\" fill=\"#66cc99\" stroke=\"#555555\" stroke-width=\"3.481936454774015e-05\" opacity=\"0.6\" d=\"M 7.536218762397766,46.29235514220171 L 7.536393105983734,46.29235514220171 L 7.536393105983734,46.29239406253265 L 7.536218762397766,46.29239406253265 L 7.536218762397766,46.29235514220171 z\" /><circle cx=\"7.536114156246185\" cy=\"46.29274434426655\" r=\"5.222904682161023e-05\" stroke=\"#555555\" stroke-width=\"1.7409682273870076e-05\" fill=\"#66cc99\" opacity=\"0.6\" /><circle cx=\"7.535017132759093\" cy=\"46.292179073692296\" r=\"5.222904682161023e-05\" stroke=\"#555555\" stroke-width=\"1.7409682273870076e-05\" fill=\"#66cc99\" opacity=\"0.6\" /><polyline fill=\"none\" stroke=\"#66cc99\" stroke-width=\"3.481936454774015e-05\" points=\"7.536175847053528,46.291498887923176 7.536307275295258,46.2917305597741 7.536470890045166,46.292008564701604 7.53662645816803,46.29226432798858 7.536629140377045,46.29230139503254\" opacity=\"0.8\" /><polyline fill=\"none\" stroke=\"#66cc99\" stroke-width=\"3.481936454774015e-05\" points=\"7.536556720733643,46.292848131016726 7.536454796791076,46.29264797067957 7.536409199237823,46.29244039622391 7.536098062992096,46.29238850248708 7.536098062992096,46.292262474635734 7.535937130451202,46.29220502066609 7.535741329193115,46.29213829985153 7.535062730312348,46.29170275920373\" opacity=\"0.8\" /></g></g></svg>"
      ],
      "text/plain": [
       "<GEOMETRYCOLLECTION (POLYGON ((7.536 46.292, 7.536 46.292, 7.536 46.292, 7.5...>"
      ]
     },
     "execution_count": 28,
     "metadata": {},
     "output_type": "execute_result"
    }
   ],
   "source": [
    "onlygeometries=GeometryCollection([g.geo for g in features])\n",
    "onlygeometries"
   ]
  },
  {
   "cell_type": "markdown",
   "metadata": {},
   "source": [
    "### 4. Which is the largest house? H1, H2, H3?\n",
    "\n",
    "Now that all objects are structured and in a list, it will be easier to operate over them. To answer this question we need to first filter only the houses."
   ]
  },
  {
   "cell_type": "code",
   "execution_count": 31,
   "metadata": {},
   "outputs": [],
   "source": [
    "houses = [g for g in features if g.properties.type=='house'] \n"
   ]
  },
  {
   "cell_type": "markdown",
   "metadata": {},
   "source": [
    "Then try to compare the areas of the houses and keep the largest. In the end you can print the `name` of the largest house. "
   ]
  },
  {
   "cell_type": "code",
   "execution_count": 32,
   "metadata": {},
   "outputs": [
    {
     "data": {
      "text/plain": [
       "'House-3'"
      ]
     },
     "execution_count": 32,
     "metadata": {},
     "output_type": "execute_result"
    }
   ],
   "source": [
    "maxi=0\n",
    "for h in houses:\n",
    "    if h.geo.area>maxi:\n",
    "        maxi=h.geo.area\n",
    "        bigger=h\n",
    "        \n",
    "bigger.properties.name"
   ]
  },
  {
   "cell_type": "code",
   "execution_count": 33,
   "metadata": {},
   "outputs": [
    {
     "data": {
      "text/plain": [
       "'House-3'"
      ]
     },
     "execution_count": 33,
     "metadata": {},
     "output_type": "execute_result"
    }
   ],
   "source": [
    "bigHouse = max(houses,key=lambda h:h.geo.area )\n",
    "bigHouse.properties.name"
   ]
  },
  {
   "cell_type": "markdown",
   "metadata": {},
   "source": [
    "### 5. Which house is contained in which terrain?"
   ]
  },
  {
   "cell_type": "markdown",
   "metadata": {},
   "source": [
    "First filter the terrains."
   ]
  },
  {
   "cell_type": "code",
   "execution_count": 34,
   "metadata": {},
   "outputs": [],
   "source": [
    "terrains = [g for g in features if g.properties.type=='terrain'] "
   ]
  },
  {
   "cell_type": "markdown",
   "metadata": {},
   "source": [
    "Hint: iterate over the terrains and also the houses, and compare if the house is `within` the terrain."
   ]
  },
  {
   "cell_type": "code",
   "execution_count": 35,
   "metadata": {},
   "outputs": [
    {
     "data": {
      "text/plain": [
       "{'Terrain-A': 'House-1', 'Terrain-B': 'House-3', 'Terrain-C': 'House-2'}"
      ]
     },
     "execution_count": 35,
     "metadata": {},
     "output_type": "execute_result"
    }
   ],
   "source": [
    "match={}\n",
    "for t in terrains:\n",
    "    for h in houses:\n",
    "        if h.geo.within(t.geo):\n",
    "            match[t.properties.name]=h.properties.name\n",
    "\n",
    "match"
   ]
  },
  {
   "cell_type": "markdown",
   "metadata": {},
   "source": [
    "### 6. Which terrain is closer to the road? and to the university?\n",
    "\n",
    "First get the road, and university. "
   ]
  },
  {
   "cell_type": "code",
   "execution_count": 66,
   "metadata": {},
   "outputs": [],
   "source": [
    "roads=filter(lambda r:r.properties.type=='road' ,features)\n",
    "road=next(roads)\n",
    "\n",
    "unis=filter(lambda r:r.properties.type=='university' ,features)\n",
    "uni=next(unis)"
   ]
  },
  {
   "cell_type": "markdown",
   "metadata": {},
   "source": [
    "Now iterate over the terrains, and compute the distance to the road. Keep only the minimum."
   ]
  },
  {
   "cell_type": "code",
   "execution_count": 67,
   "metadata": {},
   "outputs": [
    {
     "data": {
      "text/plain": [
       "'Terrain-B'"
      ]
     },
     "execution_count": 67,
     "metadata": {},
     "output_type": "execute_result"
    }
   ],
   "source": [
    "minDist=100000\n",
    "for t in terrains:\n",
    "    dist=t.geo.distance(road.geo)\n",
    "    if dist<minDist :\n",
    "        minDist=dist\n",
    "        closer=t\n",
    "\n",
    "closer.properties.name"
   ]
  },
  {
   "cell_type": "markdown",
   "metadata": {},
   "source": [
    "Do the same for the university"
   ]
  },
  {
   "cell_type": "code",
   "execution_count": 68,
   "metadata": {},
   "outputs": [
    {
     "data": {
      "text/plain": [
       "'Terrain-B'"
      ]
     },
     "execution_count": 68,
     "metadata": {},
     "output_type": "execute_result"
    }
   ],
   "source": [
    "minDist=100000\n",
    "for t in terrains:\n",
    "    dist=t.geo.distance(uni.geo)\n",
    "    if dist<minDist :\n",
    "        minDist=dist\n",
    "        closer=t\n",
    "\n",
    "closer.properties.name"
   ]
  },
  {
   "cell_type": "markdown",
   "metadata": {},
   "source": [
    "### 7. The subterranean river crosses some terrains. Which ones?"
   ]
  },
  {
   "cell_type": "markdown",
   "metadata": {},
   "source": [
    "First get the river"
   ]
  },
  {
   "cell_type": "code",
   "execution_count": 69,
   "metadata": {},
   "outputs": [],
   "source": [
    "rivers=filter(lambda r:r.properties.type=='river' ,features)\n",
    "river=next(rivers)"
   ]
  },
  {
   "cell_type": "markdown",
   "metadata": {},
   "source": [
    "Now iterate over the terrains and see which ones intersect with the river."
   ]
  },
  {
   "cell_type": "code",
   "execution_count": 70,
   "metadata": {},
   "outputs": [
    {
     "name": "stdout",
     "output_type": "stream",
     "text": [
      "Terrain-A\n",
      "Terrain-B\n"
     ]
    }
   ],
   "source": [
    "for t in terrains:\n",
    "    if t.geo.intersects(river.geo):\n",
    "        print(t.properties.name)"
   ]
  },
  {
   "cell_type": "markdown",
   "metadata": {},
   "source": [
    "### 8. Which terrain has a swimming pool?\n",
    "\n",
    "Similar as the previous one, but now check if the terrain contains the pool"
   ]
  },
  {
   "cell_type": "code",
   "execution_count": 71,
   "metadata": {},
   "outputs": [
    {
     "name": "stdout",
     "output_type": "stream",
     "text": [
      "Terrain-B\n"
     ]
    }
   ],
   "source": [
    "pools=filter(lambda r:r.properties.type=='pool' ,features)\n",
    "pool=list(pools)[0]\n",
    "\n",
    "for t in terrains:\n",
    "    if t.geo.contains(pool.geo):\n",
    "        print(t.properties.name)"
   ]
  },
  {
   "cell_type": "markdown",
   "metadata": {},
   "source": [
    "### 9. Using the terrain form question (8), create a new polygon with the same surface but without the house and swimming pool\n",
    "\n",
    "For this first get the terrain that contains the pool, and its house:"
   ]
  },
  {
   "cell_type": "code",
   "execution_count": 72,
   "metadata": {},
   "outputs": [],
   "source": [
    "terrainB=list(filter(lambda r:r.properties.name=='Terrain-B',terrains))[0]\n",
    "house3=list(filter(lambda r:r.properties.name=='House-3',houses))[0]"
   ]
  },
  {
   "cell_type": "markdown",
   "metadata": {},
   "source": [
    "Then, create the new terrain, computing the difference:"
   ]
  },
  {
   "cell_type": "code",
   "execution_count": 73,
   "metadata": {},
   "outputs": [
    {
     "data": {
      "image/svg+xml": [
       "<svg xmlns=\"http://www.w3.org/2000/svg\" xmlns:xlink=\"http://www.w3.org/1999/xlink\" width=\"100.0\" height=\"100.0\" viewBox=\"7.536053165634487 46.29218240983475 0.0005001726944939833 0.0005604518648070211\" preserveAspectRatio=\"xMinYMin meet\"><g transform=\"matrix(1,0,0,-1,0,92.5849252715343)\"><path fill-rule=\"evenodd\" fill=\"#66cc99\" stroke=\"#555555\" stroke-width=\"1.1209037296140423e-05\" opacity=\"0.6\" d=\"M 7.536296546459199,46.29272210422308 L 7.536532580852508,46.29243668953004 L 7.5362858176231375,46.29220316731123 L 7.536124885082244,46.29241630270935 L 7.536073923110961,46.29255715695201 L 7.536296546459199,46.29272210422308 z M 7.536371648311614,46.2925237967694 L 7.536170482635499,46.2925237967694 L 7.536170482635499,46.29244039622391 L 7.536371648311614,46.29244039622391 L 7.536371648311614,46.2925237967694 z M 7.536393105983734,46.29235514220171 L 7.536393105983734,46.29239406253265 L 7.536218762397766,46.29239406253265 L 7.536218762397766,46.29235514220171 L 7.536393105983734,46.29235514220171 z\" /></g></svg>"
      ],
      "text/plain": [
       "<POLYGON ((7.536 46.293, 7.537 46.292, 7.536 46.292, 7.536 46.292, 7.536 46....>"
      ]
     },
     "execution_count": 73,
     "metadata": {},
     "output_type": "execute_result"
    }
   ],
   "source": [
    "newTerrain=terrainB.geo.difference(house3.geo)\n",
    "newTerrain=newTerrain.difference(pool.geo)\n",
    "\n",
    "newTerrain"
   ]
  },
  {
   "cell_type": "code",
   "execution_count": 54,
   "metadata": {},
   "outputs": [
    {
     "data": {
      "text/plain": [
       "<shapely.coords.CoordinateSequence at 0x7ffa472fd310>"
      ]
     },
     "execution_count": 54,
     "metadata": {},
     "output_type": "execute_result"
    }
   ],
   "source": []
  },
  {
   "cell_type": "code",
   "execution_count": 65,
   "metadata": {},
   "outputs": [
    {
     "data": {
      "image/svg+xml": [
       "<svg xmlns=\"http://www.w3.org/2000/svg\" xmlns:xlink=\"http://www.w3.org/1999/xlink\" width=\"100.0\" height=\"100.0\" viewBox=\"7.536053165634487 46.29218240983475 0.0005001726944939833 0.0005604518648070211\" preserveAspectRatio=\"xMinYMin meet\"><g transform=\"matrix(1,0,0,-1,0,92.5849252715343)\"><path fill-rule=\"evenodd\" fill=\"#66cc99\" stroke=\"#555555\" stroke-width=\"1.1209037296140423e-05\" opacity=\"0.6\" d=\"M 7.536124885082244,46.29241630270935 L 7.5362858176231375,46.29220316731123 L 7.536532580852508,46.29243668953004 L 7.536296546459199,46.29272210422308 L 7.536073923110961,46.29255715695201 L 7.536124885082244,46.29241630270935 z M 7.536218762397766,46.29235514220171 L 7.536393105983734,46.29235514220171 L 7.536393105983734,46.29239406253265 L 7.536218762397766,46.29239406253265 L 7.536218762397766,46.29235514220171 z M 7.536170482635499,46.29244039622391 L 7.536371648311614,46.29244039622391 L 7.536371648311614,46.2925237967694 L 7.536170482635499,46.2925237967694 L 7.536170482635499,46.29244039622391 z\" /></g></svg>"
      ],
      "text/plain": [
       "<POLYGON ((7.536 46.292, 7.536 46.292, 7.537 46.292, 7.536 46.293, 7.536 46....>"
      ]
     },
     "execution_count": 65,
     "metadata": {},
     "output_type": "execute_result"
    }
   ],
   "source": [
    "\n",
    "toto = Polygon(terrainB.geo.exterior.coords,[pool.geo.exterior.coords,house3.geo.exterior.coords])\n",
    "toto"
   ]
  },
  {
   "cell_type": "markdown",
   "metadata": {},
   "source": [
    "### 10. Compute the area of a terrain (any of them). Is it correct? How about the area of a house?\n",
    "\n",
    "Can just use the area attribute."
   ]
  },
  {
   "cell_type": "code",
   "execution_count": 74,
   "metadata": {},
   "outputs": [
    {
     "data": {
      "text/plain": [
       "1.6777327122259985e-08"
      ]
     },
     "execution_count": 74,
     "metadata": {},
     "output_type": "execute_result"
    }
   ],
   "source": [
    "terrainB.geo.area\n",
    "\n",
    "house3.geo.area "
   ]
  }
 ],
 "metadata": {
  "kernelspec": {
   "display_name": "Python 3 (ipykernel)",
   "language": "python",
   "name": "python3"
  },
  "language_info": {
   "codemirror_mode": {
    "name": "ipython",
    "version": 3
   },
   "file_extension": ".py",
   "mimetype": "text/x-python",
   "name": "python",
   "nbconvert_exporter": "python",
   "pygments_lexer": "ipython3",
   "version": "3.9.12"
  }
 },
 "nbformat": 4,
 "nbformat_minor": 4
}
